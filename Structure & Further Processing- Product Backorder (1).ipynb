{
 "cells": [
  {
   "cell_type": "code",
   "execution_count": 1,
   "id": "c3accc50",
   "metadata": {},
   "outputs": [],
   "source": [
    "\n",
    "# 1.0 Call libraries\n",
    "%reset -f\n",
    "# 1.1 For data manipulations\n",
    "import numpy as np\n",
    "import pandas as pd\n",
    "from numpy.random import default_rng\n",
    "\n",
    "# 1.2 For plotting\n",
    "import matplotlib.pyplot as plt\n",
    "import seaborn as sns\n",
    "import matplotlib as mpl     # For creating colormaps\n",
    "\n",
    "# 1.3 For data processing\n",
    "from sklearn.preprocessing import StandardScaler\n",
    "from sklearn.preprocessing import LabelEncoder\n",
    "\n",
    "\n",
    "# 1.4 OS related\n",
    "import os\n",
    "\n",
    "\n",
    "# 1.5 for working in ipython\n",
    "#%matplotlib qt5\n",
    "#%matplotlib inline\n"
   ]
  },
  {
   "cell_type": "code",
   "execution_count": 2,
   "id": "f45ad3c6",
   "metadata": {},
   "outputs": [],
   "source": [
    "#1.6 From a cell display outputs from multiple commands:\n",
    "from IPython.core.interactiveshell import InteractiveShell\n",
    "InteractiveShell.ast_node_interactivity = \"all\""
   ]
  },
  {
   "cell_type": "code",
   "execution_count": 3,
   "id": "00c08586",
   "metadata": {},
   "outputs": [],
   "source": [
    "# 1.6.1 For generating random numbers:\n",
    "rng = default_rng()"
   ]
  },
  {
   "cell_type": "code",
   "execution_count": 4,
   "id": "d2061a41",
   "metadata": {},
   "outputs": [
    {
     "name": "stderr",
     "output_type": "stream",
     "text": [
      "/Users/harshchauhan/opt/anaconda3/lib/python3.8/site-packages/IPython/core/interactiveshell.py:3165: DtypeWarning: Columns (0) have mixed types.Specify dtype option on import or set low_memory=False.\n",
      "  has_raised = await self.run_ast_nodes(code_ast.body, cell_name,\n"
     ]
    }
   ],
   "source": [
    "# 2.0 Read already processed ad-data file \n",
    "#     This data was processed in github file\n",
    "\n",
    "\n",
    "df_train = pd.read_csv(\"Back_order_train.csv\")\n",
    "df_test = pd.read_csv(\"Back_order_test.csv\")"
   ]
  },
  {
   "cell_type": "code",
   "execution_count": 8,
   "id": "435e4485",
   "metadata": {},
   "outputs": [
    {
     "data": {
      "text/html": [
       "<div>\n",
       "<style scoped>\n",
       "    .dataframe tbody tr th:only-of-type {\n",
       "        vertical-align: middle;\n",
       "    }\n",
       "\n",
       "    .dataframe tbody tr th {\n",
       "        vertical-align: top;\n",
       "    }\n",
       "\n",
       "    .dataframe thead th {\n",
       "        text-align: right;\n",
       "    }\n",
       "</style>\n",
       "<table border=\"1\" class=\"dataframe\">\n",
       "  <thead>\n",
       "    <tr style=\"text-align: right;\">\n",
       "      <th></th>\n",
       "      <th>sku</th>\n",
       "      <th>national_inv</th>\n",
       "      <th>lead_time</th>\n",
       "      <th>in_transit_qty</th>\n",
       "      <th>forecast_3_month</th>\n",
       "      <th>forecast_6_month</th>\n",
       "      <th>forecast_9_month</th>\n",
       "      <th>sales_1_month</th>\n",
       "      <th>sales_3_month</th>\n",
       "      <th>sales_6_month</th>\n",
       "      <th>...</th>\n",
       "      <th>pieces_past_due</th>\n",
       "      <th>perf_6_month_avg</th>\n",
       "      <th>perf_12_month_avg</th>\n",
       "      <th>local_bo_qty</th>\n",
       "      <th>deck_risk</th>\n",
       "      <th>oe_constraint</th>\n",
       "      <th>ppap_risk</th>\n",
       "      <th>stop_auto_buy</th>\n",
       "      <th>rev_stop</th>\n",
       "      <th>went_on_backorder</th>\n",
       "    </tr>\n",
       "  </thead>\n",
       "  <tbody>\n",
       "    <tr>\n",
       "      <th>0</th>\n",
       "      <td>1026827</td>\n",
       "      <td>0.0</td>\n",
       "      <td>NaN</td>\n",
       "      <td>0.0</td>\n",
       "      <td>0.0</td>\n",
       "      <td>0.0</td>\n",
       "      <td>0.0</td>\n",
       "      <td>0.0</td>\n",
       "      <td>0.0</td>\n",
       "      <td>0.0</td>\n",
       "      <td>...</td>\n",
       "      <td>0.0</td>\n",
       "      <td>-99.00</td>\n",
       "      <td>-99.00</td>\n",
       "      <td>0.0</td>\n",
       "      <td>No</td>\n",
       "      <td>No</td>\n",
       "      <td>No</td>\n",
       "      <td>Yes</td>\n",
       "      <td>No</td>\n",
       "      <td>0</td>\n",
       "    </tr>\n",
       "    <tr>\n",
       "      <th>1</th>\n",
       "      <td>1043384</td>\n",
       "      <td>2.0</td>\n",
       "      <td>9.0</td>\n",
       "      <td>0.0</td>\n",
       "      <td>0.0</td>\n",
       "      <td>0.0</td>\n",
       "      <td>0.0</td>\n",
       "      <td>0.0</td>\n",
       "      <td>0.0</td>\n",
       "      <td>0.0</td>\n",
       "      <td>...</td>\n",
       "      <td>0.0</td>\n",
       "      <td>0.99</td>\n",
       "      <td>0.99</td>\n",
       "      <td>0.0</td>\n",
       "      <td>No</td>\n",
       "      <td>No</td>\n",
       "      <td>No</td>\n",
       "      <td>Yes</td>\n",
       "      <td>No</td>\n",
       "      <td>0</td>\n",
       "    </tr>\n",
       "    <tr>\n",
       "      <th>2</th>\n",
       "      <td>1043696</td>\n",
       "      <td>2.0</td>\n",
       "      <td>NaN</td>\n",
       "      <td>0.0</td>\n",
       "      <td>0.0</td>\n",
       "      <td>0.0</td>\n",
       "      <td>0.0</td>\n",
       "      <td>0.0</td>\n",
       "      <td>0.0</td>\n",
       "      <td>0.0</td>\n",
       "      <td>...</td>\n",
       "      <td>0.0</td>\n",
       "      <td>-99.00</td>\n",
       "      <td>-99.00</td>\n",
       "      <td>0.0</td>\n",
       "      <td>Yes</td>\n",
       "      <td>No</td>\n",
       "      <td>No</td>\n",
       "      <td>Yes</td>\n",
       "      <td>No</td>\n",
       "      <td>0</td>\n",
       "    </tr>\n",
       "    <tr>\n",
       "      <th>3</th>\n",
       "      <td>1043852</td>\n",
       "      <td>7.0</td>\n",
       "      <td>8.0</td>\n",
       "      <td>0.0</td>\n",
       "      <td>0.0</td>\n",
       "      <td>0.0</td>\n",
       "      <td>0.0</td>\n",
       "      <td>0.0</td>\n",
       "      <td>0.0</td>\n",
       "      <td>0.0</td>\n",
       "      <td>...</td>\n",
       "      <td>0.0</td>\n",
       "      <td>0.10</td>\n",
       "      <td>0.13</td>\n",
       "      <td>0.0</td>\n",
       "      <td>No</td>\n",
       "      <td>No</td>\n",
       "      <td>No</td>\n",
       "      <td>Yes</td>\n",
       "      <td>No</td>\n",
       "      <td>0</td>\n",
       "    </tr>\n",
       "    <tr>\n",
       "      <th>4</th>\n",
       "      <td>1044048</td>\n",
       "      <td>8.0</td>\n",
       "      <td>NaN</td>\n",
       "      <td>0.0</td>\n",
       "      <td>0.0</td>\n",
       "      <td>0.0</td>\n",
       "      <td>0.0</td>\n",
       "      <td>0.0</td>\n",
       "      <td>0.0</td>\n",
       "      <td>0.0</td>\n",
       "      <td>...</td>\n",
       "      <td>0.0</td>\n",
       "      <td>-99.00</td>\n",
       "      <td>-99.00</td>\n",
       "      <td>0.0</td>\n",
       "      <td>Yes</td>\n",
       "      <td>No</td>\n",
       "      <td>No</td>\n",
       "      <td>Yes</td>\n",
       "      <td>No</td>\n",
       "      <td>0</td>\n",
       "    </tr>\n",
       "  </tbody>\n",
       "</table>\n",
       "<p>5 rows × 23 columns</p>\n",
       "</div>"
      ],
      "text/plain": [
       "       sku  national_inv  lead_time  in_transit_qty  forecast_3_month  \\\n",
       "0  1026827           0.0        NaN             0.0               0.0   \n",
       "1  1043384           2.0        9.0             0.0               0.0   \n",
       "2  1043696           2.0        NaN             0.0               0.0   \n",
       "3  1043852           7.0        8.0             0.0               0.0   \n",
       "4  1044048           8.0        NaN             0.0               0.0   \n",
       "\n",
       "   forecast_6_month  forecast_9_month  sales_1_month  sales_3_month  \\\n",
       "0               0.0               0.0            0.0            0.0   \n",
       "1               0.0               0.0            0.0            0.0   \n",
       "2               0.0               0.0            0.0            0.0   \n",
       "3               0.0               0.0            0.0            0.0   \n",
       "4               0.0               0.0            0.0            0.0   \n",
       "\n",
       "   sales_6_month  ...  pieces_past_due  perf_6_month_avg perf_12_month_avg  \\\n",
       "0            0.0  ...              0.0            -99.00            -99.00   \n",
       "1            0.0  ...              0.0              0.99              0.99   \n",
       "2            0.0  ...              0.0            -99.00            -99.00   \n",
       "3            0.0  ...              0.0              0.10              0.13   \n",
       "4            0.0  ...              0.0            -99.00            -99.00   \n",
       "\n",
       "   local_bo_qty  deck_risk  oe_constraint  ppap_risk stop_auto_buy rev_stop  \\\n",
       "0           0.0         No             No         No           Yes       No   \n",
       "1           0.0         No             No         No           Yes       No   \n",
       "2           0.0        Yes             No         No           Yes       No   \n",
       "3           0.0         No             No         No           Yes       No   \n",
       "4           0.0        Yes             No         No           Yes       No   \n",
       "\n",
       "  went_on_backorder  \n",
       "0                 0  \n",
       "1                 0  \n",
       "2                 0  \n",
       "3                 0  \n",
       "4                 0  \n",
       "\n",
       "[5 rows x 23 columns]"
      ]
     },
     "execution_count": 8,
     "metadata": {},
     "output_type": "execute_result"
    },
    {
     "name": "stdout",
     "output_type": "stream",
     "text": [
      "\n",
      "-----\n",
      "\n"
     ]
    },
    {
     "data": {
      "text/plain": [
       "sku                   object\n",
       "national_inv         float64\n",
       "lead_time            float64\n",
       "in_transit_qty       float64\n",
       "forecast_3_month     float64\n",
       "forecast_6_month     float64\n",
       "forecast_9_month     float64\n",
       "sales_1_month        float64\n",
       "sales_3_month        float64\n",
       "sales_6_month        float64\n",
       "sales_9_month        float64\n",
       "min_bank             float64\n",
       "potential_issue       object\n",
       "pieces_past_due      float64\n",
       "perf_6_month_avg     float64\n",
       "perf_12_month_avg    float64\n",
       "local_bo_qty         float64\n",
       "deck_risk             object\n",
       "oe_constraint         object\n",
       "ppap_risk             object\n",
       "stop_auto_buy         object\n",
       "rev_stop              object\n",
       "went_on_backorder      int64\n",
       "dtype: object"
      ]
     },
     "execution_count": 8,
     "metadata": {},
     "output_type": "execute_result"
    },
    {
     "name": "stdout",
     "output_type": "stream",
     "text": [
      "\n",
      "------\n",
      "\n"
     ]
    },
    {
     "data": {
      "text/plain": [
       "float64    15\n",
       "object      7\n",
       "int64       1\n",
       "dtype: int64"
      ]
     },
     "execution_count": 8,
     "metadata": {},
     "output_type": "execute_result"
    }
   ],
   "source": [
    "df_train.head()\n",
    "print(\"\\n-----\\n\")\n",
    "df_train.dtypes\n",
    "print(\"\\n------\\n\")\n",
    "df_train.dtypes.value_counts()"
   ]
  },
  {
   "cell_type": "code",
   "execution_count": 9,
   "id": "2a764284",
   "metadata": {},
   "outputs": [],
   "source": [
    "le = LabelEncoder()"
   ]
  },
  {
   "cell_type": "code",
   "execution_count": 10,
   "id": "c158d490",
   "metadata": {},
   "outputs": [],
   "source": [
    "df_train['went_on_backorder'] = le.fit_transform(df_train['went_on_backorder'])"
   ]
  },
  {
   "cell_type": "code",
   "execution_count": 11,
   "id": "c7fbc32d",
   "metadata": {},
   "outputs": [],
   "source": [
    "df_train1 = df_train.dropna()\n"
   ]
  },
  {
   "cell_type": "code",
   "execution_count": 12,
   "id": "e5ce8e65",
   "metadata": {},
   "outputs": [
    {
     "data": {
      "text/html": [
       "<div>\n",
       "<style scoped>\n",
       "    .dataframe tbody tr th:only-of-type {\n",
       "        vertical-align: middle;\n",
       "    }\n",
       "\n",
       "    .dataframe tbody tr th {\n",
       "        vertical-align: top;\n",
       "    }\n",
       "\n",
       "    .dataframe thead th {\n",
       "        text-align: right;\n",
       "    }\n",
       "</style>\n",
       "<table border=\"1\" class=\"dataframe\">\n",
       "  <thead>\n",
       "    <tr style=\"text-align: right;\">\n",
       "      <th></th>\n",
       "      <th>national_inv</th>\n",
       "      <th>lead_time</th>\n",
       "      <th>in_transit_qty</th>\n",
       "      <th>forecast_3_month</th>\n",
       "      <th>forecast_6_month</th>\n",
       "      <th>forecast_9_month</th>\n",
       "      <th>sales_1_month</th>\n",
       "      <th>sales_3_month</th>\n",
       "      <th>sales_6_month</th>\n",
       "      <th>sales_9_month</th>\n",
       "      <th>min_bank</th>\n",
       "      <th>pieces_past_due</th>\n",
       "      <th>perf_6_month_avg</th>\n",
       "      <th>perf_12_month_avg</th>\n",
       "      <th>local_bo_qty</th>\n",
       "      <th>went_on_backorder</th>\n",
       "    </tr>\n",
       "  </thead>\n",
       "  <tbody>\n",
       "    <tr>\n",
       "      <th>0</th>\n",
       "      <td>0.0</td>\n",
       "      <td>NaN</td>\n",
       "      <td>0.0</td>\n",
       "      <td>0.0</td>\n",
       "      <td>0.0</td>\n",
       "      <td>0.0</td>\n",
       "      <td>0.0</td>\n",
       "      <td>0.0</td>\n",
       "      <td>0.0</td>\n",
       "      <td>0.0</td>\n",
       "      <td>0.0</td>\n",
       "      <td>0.0</td>\n",
       "      <td>-99.00</td>\n",
       "      <td>-99.00</td>\n",
       "      <td>0.0</td>\n",
       "      <td>0</td>\n",
       "    </tr>\n",
       "    <tr>\n",
       "      <th>1</th>\n",
       "      <td>2.0</td>\n",
       "      <td>9.0</td>\n",
       "      <td>0.0</td>\n",
       "      <td>0.0</td>\n",
       "      <td>0.0</td>\n",
       "      <td>0.0</td>\n",
       "      <td>0.0</td>\n",
       "      <td>0.0</td>\n",
       "      <td>0.0</td>\n",
       "      <td>0.0</td>\n",
       "      <td>0.0</td>\n",
       "      <td>0.0</td>\n",
       "      <td>0.99</td>\n",
       "      <td>0.99</td>\n",
       "      <td>0.0</td>\n",
       "      <td>0</td>\n",
       "    </tr>\n",
       "    <tr>\n",
       "      <th>2</th>\n",
       "      <td>2.0</td>\n",
       "      <td>NaN</td>\n",
       "      <td>0.0</td>\n",
       "      <td>0.0</td>\n",
       "      <td>0.0</td>\n",
       "      <td>0.0</td>\n",
       "      <td>0.0</td>\n",
       "      <td>0.0</td>\n",
       "      <td>0.0</td>\n",
       "      <td>0.0</td>\n",
       "      <td>0.0</td>\n",
       "      <td>0.0</td>\n",
       "      <td>-99.00</td>\n",
       "      <td>-99.00</td>\n",
       "      <td>0.0</td>\n",
       "      <td>0</td>\n",
       "    </tr>\n",
       "    <tr>\n",
       "      <th>3</th>\n",
       "      <td>7.0</td>\n",
       "      <td>8.0</td>\n",
       "      <td>0.0</td>\n",
       "      <td>0.0</td>\n",
       "      <td>0.0</td>\n",
       "      <td>0.0</td>\n",
       "      <td>0.0</td>\n",
       "      <td>0.0</td>\n",
       "      <td>0.0</td>\n",
       "      <td>0.0</td>\n",
       "      <td>1.0</td>\n",
       "      <td>0.0</td>\n",
       "      <td>0.10</td>\n",
       "      <td>0.13</td>\n",
       "      <td>0.0</td>\n",
       "      <td>0</td>\n",
       "    </tr>\n",
       "    <tr>\n",
       "      <th>4</th>\n",
       "      <td>8.0</td>\n",
       "      <td>NaN</td>\n",
       "      <td>0.0</td>\n",
       "      <td>0.0</td>\n",
       "      <td>0.0</td>\n",
       "      <td>0.0</td>\n",
       "      <td>0.0</td>\n",
       "      <td>0.0</td>\n",
       "      <td>0.0</td>\n",
       "      <td>4.0</td>\n",
       "      <td>2.0</td>\n",
       "      <td>0.0</td>\n",
       "      <td>-99.00</td>\n",
       "      <td>-99.00</td>\n",
       "      <td>0.0</td>\n",
       "      <td>0</td>\n",
       "    </tr>\n",
       "  </tbody>\n",
       "</table>\n",
       "</div>"
      ],
      "text/plain": [
       "   national_inv  lead_time  in_transit_qty  forecast_3_month  \\\n",
       "0           0.0        NaN             0.0               0.0   \n",
       "1           2.0        9.0             0.0               0.0   \n",
       "2           2.0        NaN             0.0               0.0   \n",
       "3           7.0        8.0             0.0               0.0   \n",
       "4           8.0        NaN             0.0               0.0   \n",
       "\n",
       "   forecast_6_month  forecast_9_month  sales_1_month  sales_3_month  \\\n",
       "0               0.0               0.0            0.0            0.0   \n",
       "1               0.0               0.0            0.0            0.0   \n",
       "2               0.0               0.0            0.0            0.0   \n",
       "3               0.0               0.0            0.0            0.0   \n",
       "4               0.0               0.0            0.0            0.0   \n",
       "\n",
       "   sales_6_month  sales_9_month  min_bank  pieces_past_due  perf_6_month_avg  \\\n",
       "0            0.0            0.0       0.0              0.0            -99.00   \n",
       "1            0.0            0.0       0.0              0.0              0.99   \n",
       "2            0.0            0.0       0.0              0.0            -99.00   \n",
       "3            0.0            0.0       1.0              0.0              0.10   \n",
       "4            0.0            4.0       2.0              0.0            -99.00   \n",
       "\n",
       "   perf_12_month_avg  local_bo_qty  went_on_backorder  \n",
       "0             -99.00           0.0                  0  \n",
       "1               0.99           0.0                  0  \n",
       "2             -99.00           0.0                  0  \n",
       "3               0.13           0.0                  0  \n",
       "4             -99.00           0.0                  0  "
      ]
     },
     "execution_count": 12,
     "metadata": {},
     "output_type": "execute_result"
    },
    {
     "data": {
      "text/plain": [
       "(1687861, 16)"
      ]
     },
     "execution_count": 12,
     "metadata": {},
     "output_type": "execute_result"
    },
    {
     "data": {
      "text/plain": [
       "Index(['national_inv', 'lead_time', 'in_transit_qty', 'forecast_3_month',\n",
       "       'forecast_6_month', 'forecast_9_month', 'sales_1_month',\n",
       "       'sales_3_month', 'sales_6_month', 'sales_9_month', 'min_bank',\n",
       "       'pieces_past_due', 'perf_6_month_avg', 'perf_12_month_avg',\n",
       "       'local_bo_qty', 'went_on_backorder'],\n",
       "      dtype='object')"
      ]
     },
     "execution_count": 12,
     "metadata": {},
     "output_type": "execute_result"
    }
   ],
   "source": [
    "# 3.0 Select only numeric columns for the purpose\n",
    "num_data = df_train.select_dtypes(include = ['float64', 'int64']).copy()\n",
    "num_data.head()\n",
    "num_data.shape       # (1000, 11)\n",
    "num_data.columns"
   ]
  },
  {
   "cell_type": "code",
   "execution_count": 13,
   "id": "df53c8fe",
   "metadata": {},
   "outputs": [],
   "source": [
    "cols=['national_inv', 'lead_time', 'in_transit_qty', 'forecast_3_month',\n",
    "       'forecast_6_month', 'forecast_9_month', 'sales_1_month',\n",
    "       'sales_3_month', 'sales_6_month', 'sales_9_month', 'min_bank',\n",
    "       'pieces_past_due', 'perf_6_month_avg', 'perf_12_month_avg',\n",
    "       'local_bo_qty', 'went_on_backorder'] "
   ]
  },
  {
   "cell_type": "code",
   "execution_count": 14,
   "id": "d9f56b59",
   "metadata": {},
   "outputs": [],
   "source": [
    "ss= StandardScaler()\n"
   ]
  },
  {
   "cell_type": "code",
   "execution_count": 15,
   "id": "926d1105",
   "metadata": {},
   "outputs": [],
   "source": [
    "nc = ss.fit_transform(num_data.loc[:,cols])\n"
   ]
  },
  {
   "cell_type": "code",
   "execution_count": 16,
   "id": "116d6d87",
   "metadata": {},
   "outputs": [
    {
     "data": {
      "text/plain": [
       "(1687861, 16)"
      ]
     },
     "execution_count": 16,
     "metadata": {},
     "output_type": "execute_result"
    }
   ],
   "source": [
    "nc.shape     # (1000,9)\n",
    "\n"
   ]
  },
  {
   "cell_type": "code",
   "execution_count": 17,
   "id": "4d8de384",
   "metadata": {},
   "outputs": [
    {
     "data": {
      "text/html": [
       "<div>\n",
       "<style scoped>\n",
       "    .dataframe tbody tr th:only-of-type {\n",
       "        vertical-align: middle;\n",
       "    }\n",
       "\n",
       "    .dataframe tbody tr th {\n",
       "        vertical-align: top;\n",
       "    }\n",
       "\n",
       "    .dataframe thead th {\n",
       "        text-align: right;\n",
       "    }\n",
       "</style>\n",
       "<table border=\"1\" class=\"dataframe\">\n",
       "  <thead>\n",
       "    <tr style=\"text-align: right;\">\n",
       "      <th></th>\n",
       "      <th>national_inv</th>\n",
       "      <th>lead_time</th>\n",
       "      <th>in_transit_qty</th>\n",
       "      <th>forecast_3_month</th>\n",
       "      <th>forecast_6_month</th>\n",
       "      <th>forecast_9_month</th>\n",
       "      <th>sales_1_month</th>\n",
       "      <th>sales_3_month</th>\n",
       "      <th>sales_6_month</th>\n",
       "      <th>sales_9_month</th>\n",
       "      <th>min_bank</th>\n",
       "      <th>pieces_past_due</th>\n",
       "      <th>perf_6_month_avg</th>\n",
       "      <th>perf_12_month_avg</th>\n",
       "      <th>local_bo_qty</th>\n",
       "      <th>went_on_backorder</th>\n",
       "    </tr>\n",
       "  </thead>\n",
       "  <tbody>\n",
       "    <tr>\n",
       "      <th>0</th>\n",
       "      <td>-0.016752</td>\n",
       "      <td>NaN</td>\n",
       "      <td>-0.032808</td>\n",
       "      <td>-0.035436</td>\n",
       "      <td>-0.03522</td>\n",
       "      <td>-0.035216</td>\n",
       "      <td>-0.029004</td>\n",
       "      <td>-0.033708</td>\n",
       "      <td>-0.035548</td>\n",
       "      <td>-0.035399</td>\n",
       "      <td>-0.04205</td>\n",
       "      <td>-0.008659</td>\n",
       "      <td>-3.469149</td>\n",
       "      <td>-3.581662</td>\n",
       "      <td>-0.018577</td>\n",
       "      <td>-0.082072</td>\n",
       "    </tr>\n",
       "    <tr>\n",
       "      <th>1</th>\n",
       "      <td>-0.016684</td>\n",
       "      <td>0.159826</td>\n",
       "      <td>-0.032808</td>\n",
       "      <td>-0.035436</td>\n",
       "      <td>-0.03522</td>\n",
       "      <td>-0.035216</td>\n",
       "      <td>-0.029004</td>\n",
       "      <td>-0.033708</td>\n",
       "      <td>-0.035548</td>\n",
       "      <td>-0.035399</td>\n",
       "      <td>-0.04205</td>\n",
       "      <td>-0.008659</td>\n",
       "      <td>0.296052</td>\n",
       "      <td>0.287422</td>\n",
       "      <td>-0.018577</td>\n",
       "      <td>-0.082072</td>\n",
       "    </tr>\n",
       "  </tbody>\n",
       "</table>\n",
       "</div>"
      ],
      "text/plain": [
       "   national_inv  lead_time  in_transit_qty  forecast_3_month  \\\n",
       "0     -0.016752        NaN       -0.032808         -0.035436   \n",
       "1     -0.016684   0.159826       -0.032808         -0.035436   \n",
       "\n",
       "   forecast_6_month  forecast_9_month  sales_1_month  sales_3_month  \\\n",
       "0          -0.03522         -0.035216      -0.029004      -0.033708   \n",
       "1          -0.03522         -0.035216      -0.029004      -0.033708   \n",
       "\n",
       "   sales_6_month  sales_9_month  min_bank  pieces_past_due  perf_6_month_avg  \\\n",
       "0      -0.035548      -0.035399  -0.04205        -0.008659         -3.469149   \n",
       "1      -0.035548      -0.035399  -0.04205        -0.008659          0.296052   \n",
       "\n",
       "   perf_12_month_avg  local_bo_qty  went_on_backorder  \n",
       "0          -3.581662     -0.018577          -0.082072  \n",
       "1           0.287422     -0.018577          -0.082072  "
      ]
     },
     "execution_count": 17,
     "metadata": {},
     "output_type": "execute_result"
    }
   ],
   "source": [
    "nc = pd.DataFrame(nc, columns = cols)\n",
    "nc.head(2)"
   ]
  },
  {
   "cell_type": "code",
   "execution_count": 37,
   "id": "66b302b7",
   "metadata": {},
   "outputs": [
    {
     "data": {
      "text/html": [
       "<div>\n",
       "<style scoped>\n",
       "    .dataframe tbody tr th:only-of-type {\n",
       "        vertical-align: middle;\n",
       "    }\n",
       "\n",
       "    .dataframe tbody tr th {\n",
       "        vertical-align: top;\n",
       "    }\n",
       "\n",
       "    .dataframe thead th {\n",
       "        text-align: right;\n",
       "    }\n",
       "</style>\n",
       "<table border=\"1\" class=\"dataframe\">\n",
       "  <thead>\n",
       "    <tr style=\"text-align: right;\">\n",
       "      <th></th>\n",
       "      <th>national_inv</th>\n",
       "      <th>lead_time</th>\n",
       "      <th>in_transit_qty</th>\n",
       "      <th>forecast_3_month</th>\n",
       "      <th>forecast_6_month</th>\n",
       "      <th>forecast_9_month</th>\n",
       "      <th>sales_1_month</th>\n",
       "      <th>sales_3_month</th>\n",
       "      <th>sales_6_month</th>\n",
       "      <th>sales_9_month</th>\n",
       "      <th>min_bank</th>\n",
       "      <th>pieces_past_due</th>\n",
       "      <th>perf_6_month_avg</th>\n",
       "      <th>perf_12_month_avg</th>\n",
       "      <th>local_bo_qty</th>\n",
       "      <th>went_on_backorder</th>\n",
       "    </tr>\n",
       "  </thead>\n",
       "  <tbody>\n",
       "    <tr>\n",
       "      <th>0</th>\n",
       "      <td>-0.016752</td>\n",
       "      <td>NaN</td>\n",
       "      <td>-0.032808</td>\n",
       "      <td>-0.035436</td>\n",
       "      <td>-0.03522</td>\n",
       "      <td>-0.035216</td>\n",
       "      <td>-0.029004</td>\n",
       "      <td>-0.033708</td>\n",
       "      <td>-0.035548</td>\n",
       "      <td>-0.035399</td>\n",
       "      <td>-0.04205</td>\n",
       "      <td>-0.008659</td>\n",
       "      <td>-3.469149</td>\n",
       "      <td>-3.581662</td>\n",
       "      <td>-0.018577</td>\n",
       "      <td>-0.082072</td>\n",
       "    </tr>\n",
       "    <tr>\n",
       "      <th>1</th>\n",
       "      <td>-0.016684</td>\n",
       "      <td>0.159826</td>\n",
       "      <td>-0.032808</td>\n",
       "      <td>-0.035436</td>\n",
       "      <td>-0.03522</td>\n",
       "      <td>-0.035216</td>\n",
       "      <td>-0.029004</td>\n",
       "      <td>-0.033708</td>\n",
       "      <td>-0.035548</td>\n",
       "      <td>-0.035399</td>\n",
       "      <td>-0.04205</td>\n",
       "      <td>-0.008659</td>\n",
       "      <td>0.296052</td>\n",
       "      <td>0.287422</td>\n",
       "      <td>-0.018577</td>\n",
       "      <td>-0.082072</td>\n",
       "    </tr>\n",
       "  </tbody>\n",
       "</table>\n",
       "</div>"
      ],
      "text/plain": [
       "   national_inv  lead_time  in_transit_qty  forecast_3_month  \\\n",
       "0     -0.016752        NaN       -0.032808         -0.035436   \n",
       "1     -0.016684   0.159826       -0.032808         -0.035436   \n",
       "\n",
       "   forecast_6_month  forecast_9_month  sales_1_month  sales_3_month  \\\n",
       "0          -0.03522         -0.035216      -0.029004      -0.033708   \n",
       "1          -0.03522         -0.035216      -0.029004      -0.033708   \n",
       "\n",
       "   sales_6_month  sales_9_month  min_bank  pieces_past_due  perf_6_month_avg  \\\n",
       "0      -0.035548      -0.035399  -0.04205        -0.008659         -3.469149   \n",
       "1      -0.035548      -0.035399  -0.04205        -0.008659          0.296052   \n",
       "\n",
       "   perf_12_month_avg  local_bo_qty  went_on_backorder  \n",
       "0          -3.581662     -0.018577          -0.082072  \n",
       "1           0.287422     -0.018577          -0.082072  "
      ]
     },
     "execution_count": 37,
     "metadata": {},
     "output_type": "execute_result"
    }
   ],
   "source": [
    "nc.head(2)"
   ]
  },
  {
   "cell_type": "code",
   "execution_count": 18,
   "id": "fbbdbf48",
   "metadata": {},
   "outputs": [],
   "source": [
    "nc['went_on_backorder'] = df_train['went_on_backorder']"
   ]
  },
  {
   "cell_type": "code",
   "execution_count": 24,
   "id": "569678aa",
   "metadata": {},
   "outputs": [
    {
     "data": {
      "text/plain": [
       "<AxesSubplot:>"
      ]
     },
     "execution_count": 24,
     "metadata": {},
     "output_type": "execute_result"
    },
    {
     "data": {
      "text/plain": [
       "(array([ 0,  1,  2,  3,  4,  5,  6,  7,  8,  9, 10, 11, 12, 13, 14]),\n",
       " [Text(0, 0, 'national_inv'),\n",
       "  Text(1, 0, 'lead_time'),\n",
       "  Text(2, 0, 'in_transit_qty'),\n",
       "  Text(3, 0, 'forecast_3_month'),\n",
       "  Text(4, 0, 'forecast_6_month'),\n",
       "  Text(5, 0, 'forecast_9_month'),\n",
       "  Text(6, 0, 'sales_1_month'),\n",
       "  Text(7, 0, 'sales_3_month'),\n",
       "  Text(8, 0, 'sales_6_month'),\n",
       "  Text(9, 0, 'sales_9_month'),\n",
       "  Text(10, 0, 'min_bank'),\n",
       "  Text(11, 0, 'pieces_past_due'),\n",
       "  Text(12, 0, 'perf_6_month_avg'),\n",
       "  Text(13, 0, 'perf_12_month_avg'),\n",
       "  Text(14, 0, 'local_bo_qty')])"
      ]
     },
     "execution_count": 24,
     "metadata": {},
     "output_type": "execute_result"
    },
    {
     "data": {
      "text/plain": [
       "Text(0.5, 1.0, 'Parallel chart with random data')"
      ]
     },
     "execution_count": 24,
     "metadata": {},
     "output_type": "execute_result"
    },
    {
     "data": {
      "image/png": "[encoded data removed]",
      "text/plain": [
       "<Figure size 432x288 with 1 Axes>"
      ]
     },
     "metadata": {
      "needs_background": "light"
     },
     "output_type": "display_data"
    }
   ],
   "source": [
    "fig1 = plt.figure()\n",
    "pd.plotting.parallel_coordinates(row1,\n",
    "                                 'went_on_backorder',    # class_column\n",
    "                                  colormap='winter'\n",
    "                                  )\n",
    "plt.xticks(rotation=90)\n",
    "plt.title(\"Parallel chart with random data\")"
   ]
  },
  {
   "cell_type": "code",
   "execution_count": 25,
   "id": "c2c1ae8a",
   "metadata": {},
   "outputs": [
    {
     "data": {
      "text/plain": [
       "<AxesSubplot:>"
      ]
     },
     "execution_count": 25,
     "metadata": {},
     "output_type": "execute_result"
    },
    {
     "data": {
      "text/plain": [
       "Text(0.5, 1.0, 'Andrews plots with random data')"
      ]
     },
     "execution_count": 25,
     "metadata": {},
     "output_type": "execute_result"
    },
    {
     "data": {
      "image/png": "[encoded data removed]",
      "text/plain": [
       "<Figure size 432x288 with 1 Axes>"
      ]
     },
     "metadata": {
      "needs_background": "light"
     },
     "output_type": "display_data"
    }
   ],
   "source": [
    "fig3 = plt.figure()\n",
    "pd.plotting.andrews_curves(row1,\n",
    "                           'went_on_backorder',\n",
    "                           colormap = 'winter')\n",
    "\n",
    "plt.title(\"Andrews plots with random data\")\n"
   ]
  },
  {
   "cell_type": "code",
   "execution_count": 26,
   "id": "630d7689",
   "metadata": {},
   "outputs": [
    {
     "data": {
      "text/plain": [
       "<AxesSubplot:>"
      ]
     },
     "execution_count": 26,
     "metadata": {},
     "output_type": "execute_result"
    },
    {
     "data": {
      "image/png": "[encoded data removed]",
      "text/plain": [
       "<Figure size 432x288 with 1 Axes>"
      ]
     },
     "metadata": {
      "needs_background": "light"
     },
     "output_type": "display_data"
    }
   ],
   "source": [
    "fig5 = plt.figure()\n",
    "pd.plotting.radviz(row1,\n",
    "                   class_column ='went_on_backorder',\n",
    "                   colormap= plt.cm.winter,\n",
    "                   alpha = 0.4\n",
    "                   )"
   ]
  },
  {
   "cell_type": "code",
   "execution_count": 22,
   "id": "8ff1bd78",
   "metadata": {},
   "outputs": [],
   "source": [
    "row1 = nc.sample(n = 10000)\n"
   ]
  },
  {
   "cell_type": "code",
   "execution_count": 23,
   "id": "3452a43b",
   "metadata": {},
   "outputs": [
    {
     "data": {
      "text/html": [
       "<div>\n",
       "<style scoped>\n",
       "    .dataframe tbody tr th:only-of-type {\n",
       "        vertical-align: middle;\n",
       "    }\n",
       "\n",
       "    .dataframe tbody tr th {\n",
       "        vertical-align: top;\n",
       "    }\n",
       "\n",
       "    .dataframe thead th {\n",
       "        text-align: right;\n",
       "    }\n",
       "</style>\n",
       "<table border=\"1\" class=\"dataframe\">\n",
       "  <thead>\n",
       "    <tr style=\"text-align: right;\">\n",
       "      <th></th>\n",
       "      <th>national_inv</th>\n",
       "      <th>lead_time</th>\n",
       "      <th>in_transit_qty</th>\n",
       "      <th>forecast_3_month</th>\n",
       "      <th>forecast_6_month</th>\n",
       "      <th>forecast_9_month</th>\n",
       "      <th>sales_1_month</th>\n",
       "      <th>sales_3_month</th>\n",
       "      <th>sales_6_month</th>\n",
       "      <th>sales_9_month</th>\n",
       "      <th>min_bank</th>\n",
       "      <th>pieces_past_due</th>\n",
       "      <th>perf_6_month_avg</th>\n",
       "      <th>perf_12_month_avg</th>\n",
       "      <th>local_bo_qty</th>\n",
       "      <th>went_on_backorder</th>\n",
       "    </tr>\n",
       "  </thead>\n",
       "  <tbody>\n",
       "    <tr>\n",
       "      <th>352367</th>\n",
       "      <td>-0.016617</td>\n",
       "      <td>0.018103</td>\n",
       "      <td>-0.032808</td>\n",
       "      <td>-0.035436</td>\n",
       "      <td>-0.035220</td>\n",
       "      <td>-0.035216</td>\n",
       "      <td>-0.029004</td>\n",
       "      <td>-0.033708</td>\n",
       "      <td>-0.035548</td>\n",
       "      <td>-0.035399</td>\n",
       "      <td>-0.042050</td>\n",
       "      <td>-0.008659</td>\n",
       "      <td>0.289650</td>\n",
       "      <td>0.278136</td>\n",
       "      <td>-0.018577</td>\n",
       "      <td>0</td>\n",
       "    </tr>\n",
       "    <tr>\n",
       "      <th>1609393</th>\n",
       "      <td>0.001246</td>\n",
       "      <td>-0.832235</td>\n",
       "      <td>-0.005997</td>\n",
       "      <td>0.124714</td>\n",
       "      <td>0.122103</td>\n",
       "      <td>0.137537</td>\n",
       "      <td>0.108430</td>\n",
       "      <td>0.124986</td>\n",
       "      <td>0.124441</td>\n",
       "      <td>0.112189</td>\n",
       "      <td>0.128470</td>\n",
       "      <td>-0.008659</td>\n",
       "      <td>0.296429</td>\n",
       "      <td>0.287422</td>\n",
       "      <td>-0.018577</td>\n",
       "      <td>0</td>\n",
       "    </tr>\n",
       "    <tr>\n",
       "      <th>677685</th>\n",
       "      <td>-0.016313</td>\n",
       "      <td>0.584994</td>\n",
       "      <td>-0.032808</td>\n",
       "      <td>-0.035436</td>\n",
       "      <td>-0.035220</td>\n",
       "      <td>-0.035216</td>\n",
       "      <td>-0.029004</td>\n",
       "      <td>-0.033708</td>\n",
       "      <td>-0.035548</td>\n",
       "      <td>-0.035399</td>\n",
       "      <td>-0.041253</td>\n",
       "      <td>-0.008659</td>\n",
       "      <td>0.280613</td>\n",
       "      <td>0.271557</td>\n",
       "      <td>-0.018577</td>\n",
       "      <td>0</td>\n",
       "    </tr>\n",
       "    <tr>\n",
       "      <th>622561</th>\n",
       "      <td>-0.007230</td>\n",
       "      <td>-0.832235</td>\n",
       "      <td>0.129547</td>\n",
       "      <td>0.108599</td>\n",
       "      <td>0.092394</td>\n",
       "      <td>0.100399</td>\n",
       "      <td>0.174813</td>\n",
       "      <td>0.117860</td>\n",
       "      <td>0.101556</td>\n",
       "      <td>0.103563</td>\n",
       "      <td>0.116518</td>\n",
       "      <td>-0.008659</td>\n",
       "      <td>0.296429</td>\n",
       "      <td>0.286648</td>\n",
       "      <td>-0.018577</td>\n",
       "      <td>0</td>\n",
       "    </tr>\n",
       "    <tr>\n",
       "      <th>1593152</th>\n",
       "      <td>-0.016684</td>\n",
       "      <td>-0.832235</td>\n",
       "      <td>-0.032808</td>\n",
       "      <td>-0.033844</td>\n",
       "      <td>-0.034403</td>\n",
       "      <td>-0.034659</td>\n",
       "      <td>-0.028486</td>\n",
       "      <td>-0.033323</td>\n",
       "      <td>-0.035132</td>\n",
       "      <td>-0.034994</td>\n",
       "      <td>-0.042050</td>\n",
       "      <td>-0.008659</td>\n",
       "      <td>0.278730</td>\n",
       "      <td>0.269623</td>\n",
       "      <td>-0.018577</td>\n",
       "      <td>0</td>\n",
       "    </tr>\n",
       "  </tbody>\n",
       "</table>\n",
       "</div>"
      ],
      "text/plain": [
       "         national_inv  lead_time  in_transit_qty  forecast_3_month  \\\n",
       "352367      -0.016617   0.018103       -0.032808         -0.035436   \n",
       "1609393      0.001246  -0.832235       -0.005997          0.124714   \n",
       "677685      -0.016313   0.584994       -0.032808         -0.035436   \n",
       "622561      -0.007230  -0.832235        0.129547          0.108599   \n",
       "1593152     -0.016684  -0.832235       -0.032808         -0.033844   \n",
       "\n",
       "         forecast_6_month  forecast_9_month  sales_1_month  sales_3_month  \\\n",
       "352367          -0.035220         -0.035216      -0.029004      -0.033708   \n",
       "1609393          0.122103          0.137537       0.108430       0.124986   \n",
       "677685          -0.035220         -0.035216      -0.029004      -0.033708   \n",
       "622561           0.092394          0.100399       0.174813       0.117860   \n",
       "1593152         -0.034403         -0.034659      -0.028486      -0.033323   \n",
       "\n",
       "         sales_6_month  sales_9_month  min_bank  pieces_past_due  \\\n",
       "352367       -0.035548      -0.035399 -0.042050        -0.008659   \n",
       "1609393       0.124441       0.112189  0.128470        -0.008659   \n",
       "677685       -0.035548      -0.035399 -0.041253        -0.008659   \n",
       "622561        0.101556       0.103563  0.116518        -0.008659   \n",
       "1593152      -0.035132      -0.034994 -0.042050        -0.008659   \n",
       "\n",
       "         perf_6_month_avg  perf_12_month_avg  local_bo_qty  went_on_backorder  \n",
       "352367           0.289650           0.278136     -0.018577                  0  \n",
       "1609393          0.296429           0.287422     -0.018577                  0  \n",
       "677685           0.280613           0.271557     -0.018577                  0  \n",
       "622561           0.296429           0.286648     -0.018577                  0  \n",
       "1593152          0.278730           0.269623     -0.018577                  0  "
      ]
     },
     "execution_count": 23,
     "metadata": {},
     "output_type": "execute_result"
    }
   ],
   "source": [
    "row1.head()"
   ]
  },
  {
   "cell_type": "code",
   "execution_count": 13,
   "id": "d6e6079d",
   "metadata": {},
   "outputs": [
    {
     "data": {
      "text/plain": [
       "(1687861, 23)"
      ]
     },
     "execution_count": 13,
     "metadata": {},
     "output_type": "execute_result"
    }
   ],
   "source": [
    "df_train.shape"
   ]
  },
  {
   "cell_type": "code",
   "execution_count": 10,
   "id": "575749a0",
   "metadata": {},
   "outputs": [
    {
     "data": {
      "text/plain": [
       "(1586967, 23)"
      ]
     },
     "execution_count": 10,
     "metadata": {},
     "output_type": "execute_result"
    }
   ],
   "source": [
    "df_train1.shape"
   ]
  },
  {
   "cell_type": "code",
   "execution_count": 11,
   "id": "e98c3c80",
   "metadata": {},
   "outputs": [],
   "source": [
    "df_train1 = df_train.dropna()\n"
   ]
  },
  {
   "cell_type": "code",
   "execution_count": 12,
   "id": "3bc50ca7",
   "metadata": {},
   "outputs": [
    {
     "data": {
      "text/plain": [
       "sku                  0\n",
       "national_inv         0\n",
       "lead_time            0\n",
       "in_transit_qty       0\n",
       "forecast_3_month     0\n",
       "forecast_6_month     0\n",
       "forecast_9_month     0\n",
       "sales_1_month        0\n",
       "sales_3_month        0\n",
       "sales_6_month        0\n",
       "sales_9_month        0\n",
       "min_bank             0\n",
       "potential_issue      0\n",
       "pieces_past_due      0\n",
       "perf_6_month_avg     0\n",
       "perf_12_month_avg    0\n",
       "local_bo_qty         0\n",
       "deck_risk            0\n",
       "oe_constraint        0\n",
       "ppap_risk            0\n",
       "stop_auto_buy        0\n",
       "rev_stop             0\n",
       "went_on_backorder    0\n",
       "dtype: int64"
      ]
     },
     "execution_count": 12,
     "metadata": {},
     "output_type": "execute_result"
    }
   ],
   "source": [
    "df_train1.isnull().sum()\n"
   ]
  },
  {
   "cell_type": "code",
   "execution_count": 13,
   "id": "63c76281",
   "metadata": {},
   "outputs": [
    {
     "data": {
      "text/plain": [
       "sku                  1586967\n",
       "national_inv           14409\n",
       "lead_time                 32\n",
       "in_transit_qty          5201\n",
       "forecast_3_month        7779\n",
       "forecast_6_month       11037\n",
       "forecast_9_month       13581\n",
       "sales_1_month           5693\n",
       "sales_3_month          10367\n",
       "sales_6_month          14633\n",
       "sales_9_month          18116\n",
       "min_bank                5472\n",
       "potential_issue            2\n",
       "pieces_past_due          826\n",
       "perf_6_month_avg         102\n",
       "perf_12_month_avg        102\n",
       "local_bo_qty             643\n",
       "deck_risk                  2\n",
       "oe_constraint              2\n",
       "ppap_risk                  2\n",
       "stop_auto_buy              2\n",
       "rev_stop                   2\n",
       "went_on_backorder          2\n",
       "dtype: int64"
      ]
     },
     "execution_count": 13,
     "metadata": {},
     "output_type": "execute_result"
    }
   ],
   "source": [
    "df_train1.nunique()"
   ]
  },
  {
   "cell_type": "code",
   "execution_count": 14,
   "id": "1d951d68",
   "metadata": {},
   "outputs": [
    {
     "name": "stdout",
     "output_type": "stream",
     "text": [
      "<class 'pandas.core.frame.DataFrame'>\n",
      "Int64Index: 1586967 entries, 1 to 1687859\n",
      "Data columns (total 23 columns):\n",
      " #   Column             Non-Null Count    Dtype  \n",
      "---  ------             --------------    -----  \n",
      " 0   sku                1586967 non-null  object \n",
      " 1   national_inv       1586967 non-null  float64\n",
      " 2   lead_time          1586967 non-null  float64\n",
      " 3   in_transit_qty     1586967 non-null  float64\n",
      " 4   forecast_3_month   1586967 non-null  float64\n",
      " 5   forecast_6_month   1586967 non-null  float64\n",
      " 6   forecast_9_month   1586967 non-null  float64\n",
      " 7   sales_1_month      1586967 non-null  float64\n",
      " 8   sales_3_month      1586967 non-null  float64\n",
      " 9   sales_6_month      1586967 non-null  float64\n",
      " 10  sales_9_month      1586967 non-null  float64\n",
      " 11  min_bank           1586967 non-null  float64\n",
      " 12  potential_issue    1586967 non-null  object \n",
      " 13  pieces_past_due    1586967 non-null  float64\n",
      " 14  perf_6_month_avg   1586967 non-null  float64\n",
      " 15  perf_12_month_avg  1586967 non-null  float64\n",
      " 16  local_bo_qty       1586967 non-null  float64\n",
      " 17  deck_risk          1586967 non-null  object \n",
      " 18  oe_constraint      1586967 non-null  object \n",
      " 19  ppap_risk          1586967 non-null  object \n",
      " 20  stop_auto_buy      1586967 non-null  object \n",
      " 21  rev_stop           1586967 non-null  object \n",
      " 22  went_on_backorder  1586967 non-null  object \n",
      "dtypes: float64(15), object(8)\n",
      "memory usage: 290.6+ MB\n"
     ]
    }
   ],
   "source": [
    "df_train1.info()"
   ]
  },
  {
   "cell_type": "code",
   "execution_count": 15,
   "id": "ff81181b",
   "metadata": {},
   "outputs": [
    {
     "data": {
      "text/html": [
       "<div>\n",
       "<style scoped>\n",
       "    .dataframe tbody tr th:only-of-type {\n",
       "        vertical-align: middle;\n",
       "    }\n",
       "\n",
       "    .dataframe tbody tr th {\n",
       "        vertical-align: top;\n",
       "    }\n",
       "\n",
       "    .dataframe thead th {\n",
       "        text-align: right;\n",
       "    }\n",
       "</style>\n",
       "<table border=\"1\" class=\"dataframe\">\n",
       "  <thead>\n",
       "    <tr style=\"text-align: right;\">\n",
       "      <th></th>\n",
       "      <th>sku</th>\n",
       "      <th>national_inv</th>\n",
       "      <th>lead_time</th>\n",
       "      <th>in_transit_qty</th>\n",
       "      <th>forecast_3_month</th>\n",
       "      <th>forecast_6_month</th>\n",
       "      <th>forecast_9_month</th>\n",
       "      <th>sales_1_month</th>\n",
       "      <th>sales_3_month</th>\n",
       "      <th>sales_6_month</th>\n",
       "      <th>...</th>\n",
       "      <th>pieces_past_due</th>\n",
       "      <th>perf_6_month_avg</th>\n",
       "      <th>perf_12_month_avg</th>\n",
       "      <th>local_bo_qty</th>\n",
       "      <th>deck_risk</th>\n",
       "      <th>oe_constraint</th>\n",
       "      <th>ppap_risk</th>\n",
       "      <th>stop_auto_buy</th>\n",
       "      <th>rev_stop</th>\n",
       "      <th>went_on_backorder</th>\n",
       "    </tr>\n",
       "  </thead>\n",
       "  <tbody>\n",
       "    <tr>\n",
       "      <th>1</th>\n",
       "      <td>1043384</td>\n",
       "      <td>2.0</td>\n",
       "      <td>9.0</td>\n",
       "      <td>0.0</td>\n",
       "      <td>0.0</td>\n",
       "      <td>0.0</td>\n",
       "      <td>0.0</td>\n",
       "      <td>0.0</td>\n",
       "      <td>0.0</td>\n",
       "      <td>0.0</td>\n",
       "      <td>...</td>\n",
       "      <td>0.0</td>\n",
       "      <td>0.99</td>\n",
       "      <td>0.99</td>\n",
       "      <td>0.0</td>\n",
       "      <td>No</td>\n",
       "      <td>No</td>\n",
       "      <td>No</td>\n",
       "      <td>Yes</td>\n",
       "      <td>No</td>\n",
       "      <td>No</td>\n",
       "    </tr>\n",
       "    <tr>\n",
       "      <th>3</th>\n",
       "      <td>1043852</td>\n",
       "      <td>7.0</td>\n",
       "      <td>8.0</td>\n",
       "      <td>0.0</td>\n",
       "      <td>0.0</td>\n",
       "      <td>0.0</td>\n",
       "      <td>0.0</td>\n",
       "      <td>0.0</td>\n",
       "      <td>0.0</td>\n",
       "      <td>0.0</td>\n",
       "      <td>...</td>\n",
       "      <td>0.0</td>\n",
       "      <td>0.10</td>\n",
       "      <td>0.13</td>\n",
       "      <td>0.0</td>\n",
       "      <td>No</td>\n",
       "      <td>No</td>\n",
       "      <td>No</td>\n",
       "      <td>Yes</td>\n",
       "      <td>No</td>\n",
       "      <td>No</td>\n",
       "    </tr>\n",
       "    <tr>\n",
       "      <th>5</th>\n",
       "      <td>1044198</td>\n",
       "      <td>13.0</td>\n",
       "      <td>8.0</td>\n",
       "      <td>0.0</td>\n",
       "      <td>0.0</td>\n",
       "      <td>0.0</td>\n",
       "      <td>0.0</td>\n",
       "      <td>0.0</td>\n",
       "      <td>0.0</td>\n",
       "      <td>0.0</td>\n",
       "      <td>...</td>\n",
       "      <td>0.0</td>\n",
       "      <td>0.82</td>\n",
       "      <td>0.87</td>\n",
       "      <td>0.0</td>\n",
       "      <td>No</td>\n",
       "      <td>No</td>\n",
       "      <td>No</td>\n",
       "      <td>Yes</td>\n",
       "      <td>No</td>\n",
       "      <td>No</td>\n",
       "    </tr>\n",
       "    <tr>\n",
       "      <th>7</th>\n",
       "      <td>1045098</td>\n",
       "      <td>6.0</td>\n",
       "      <td>2.0</td>\n",
       "      <td>0.0</td>\n",
       "      <td>0.0</td>\n",
       "      <td>0.0</td>\n",
       "      <td>0.0</td>\n",
       "      <td>0.0</td>\n",
       "      <td>0.0</td>\n",
       "      <td>0.0</td>\n",
       "      <td>...</td>\n",
       "      <td>0.0</td>\n",
       "      <td>0.00</td>\n",
       "      <td>0.00</td>\n",
       "      <td>0.0</td>\n",
       "      <td>Yes</td>\n",
       "      <td>No</td>\n",
       "      <td>Yes</td>\n",
       "      <td>Yes</td>\n",
       "      <td>No</td>\n",
       "      <td>No</td>\n",
       "    </tr>\n",
       "    <tr>\n",
       "      <th>9</th>\n",
       "      <td>1045867</td>\n",
       "      <td>4.0</td>\n",
       "      <td>8.0</td>\n",
       "      <td>0.0</td>\n",
       "      <td>0.0</td>\n",
       "      <td>0.0</td>\n",
       "      <td>0.0</td>\n",
       "      <td>0.0</td>\n",
       "      <td>0.0</td>\n",
       "      <td>0.0</td>\n",
       "      <td>...</td>\n",
       "      <td>0.0</td>\n",
       "      <td>0.82</td>\n",
       "      <td>0.87</td>\n",
       "      <td>0.0</td>\n",
       "      <td>No</td>\n",
       "      <td>No</td>\n",
       "      <td>No</td>\n",
       "      <td>Yes</td>\n",
       "      <td>No</td>\n",
       "      <td>No</td>\n",
       "    </tr>\n",
       "  </tbody>\n",
       "</table>\n",
       "<p>5 rows × 23 columns</p>\n",
       "</div>"
      ],
      "text/plain": [
       "       sku  national_inv  lead_time  in_transit_qty  forecast_3_month  \\\n",
       "1  1043384           2.0        9.0             0.0               0.0   \n",
       "3  1043852           7.0        8.0             0.0               0.0   \n",
       "5  1044198          13.0        8.0             0.0               0.0   \n",
       "7  1045098           6.0        2.0             0.0               0.0   \n",
       "9  1045867           4.0        8.0             0.0               0.0   \n",
       "\n",
       "   forecast_6_month  forecast_9_month  sales_1_month  sales_3_month  \\\n",
       "1               0.0               0.0            0.0            0.0   \n",
       "3               0.0               0.0            0.0            0.0   \n",
       "5               0.0               0.0            0.0            0.0   \n",
       "7               0.0               0.0            0.0            0.0   \n",
       "9               0.0               0.0            0.0            0.0   \n",
       "\n",
       "   sales_6_month  ...  pieces_past_due  perf_6_month_avg perf_12_month_avg  \\\n",
       "1            0.0  ...              0.0              0.99              0.99   \n",
       "3            0.0  ...              0.0              0.10              0.13   \n",
       "5            0.0  ...              0.0              0.82              0.87   \n",
       "7            0.0  ...              0.0              0.00              0.00   \n",
       "9            0.0  ...              0.0              0.82              0.87   \n",
       "\n",
       "   local_bo_qty  deck_risk  oe_constraint  ppap_risk stop_auto_buy rev_stop  \\\n",
       "1           0.0         No             No         No           Yes       No   \n",
       "3           0.0         No             No         No           Yes       No   \n",
       "5           0.0         No             No         No           Yes       No   \n",
       "7           0.0        Yes             No        Yes           Yes       No   \n",
       "9           0.0         No             No         No           Yes       No   \n",
       "\n",
       "  went_on_backorder  \n",
       "1                No  \n",
       "3                No  \n",
       "5                No  \n",
       "7                No  \n",
       "9                No  \n",
       "\n",
       "[5 rows x 23 columns]"
      ]
     },
     "execution_count": 15,
     "metadata": {},
     "output_type": "execute_result"
    }
   ],
   "source": [
    "df_train1.head()"
   ]
  },
  {
   "cell_type": "code",
   "execution_count": 16,
   "id": "b3a8a2b4",
   "metadata": {},
   "outputs": [],
   "source": [
    "cols=['national_inv', 'lead_time', 'in_transit_qty', 'forecast_3_month',\n",
    "       'forecast_6_month', 'forecast_9_month', 'sales_1_month',\n",
    "       'sales_3_month', 'sales_6_month', 'sales_9_month', 'min_bank',\n",
    "       'pieces_past_due', 'perf_6_month_avg', 'perf_12_month_avg',\n",
    "       'local_bo_qty']\n",
    "\n"
   ]
  },
  {
   "cell_type": "code",
   "execution_count": 17,
   "id": "c2207819",
   "metadata": {},
   "outputs": [],
   "source": [
    "ss= StandardScaler()"
   ]
  },
  {
   "cell_type": "code",
   "execution_count": 18,
   "id": "bfaeb8ce",
   "metadata": {},
   "outputs": [],
   "source": [
    "nc = ss.fit_transform(num_data.loc[:,cols])"
   ]
  },
  {
   "cell_type": "code",
   "execution_count": 19,
   "id": "5993a631",
   "metadata": {},
   "outputs": [
    {
     "data": {
      "text/plain": [
       "(1586967, 15)"
      ]
     },
     "execution_count": 19,
     "metadata": {},
     "output_type": "execute_result"
    }
   ],
   "source": [
    "nc.shape"
   ]
  },
  {
   "cell_type": "code",
   "execution_count": 20,
   "id": "02c4c2b3",
   "metadata": {},
   "outputs": [
    {
     "data": {
      "text/html": [
       "<div>\n",
       "<style scoped>\n",
       "    .dataframe tbody tr th:only-of-type {\n",
       "        vertical-align: middle;\n",
       "    }\n",
       "\n",
       "    .dataframe tbody tr th {\n",
       "        vertical-align: top;\n",
       "    }\n",
       "\n",
       "    .dataframe thead th {\n",
       "        text-align: right;\n",
       "    }\n",
       "</style>\n",
       "<table border=\"1\" class=\"dataframe\">\n",
       "  <thead>\n",
       "    <tr style=\"text-align: right;\">\n",
       "      <th></th>\n",
       "      <th>national_inv</th>\n",
       "      <th>lead_time</th>\n",
       "      <th>in_transit_qty</th>\n",
       "      <th>forecast_3_month</th>\n",
       "      <th>forecast_6_month</th>\n",
       "      <th>forecast_9_month</th>\n",
       "      <th>sales_1_month</th>\n",
       "      <th>sales_3_month</th>\n",
       "      <th>sales_6_month</th>\n",
       "      <th>sales_9_month</th>\n",
       "      <th>min_bank</th>\n",
       "      <th>pieces_past_due</th>\n",
       "      <th>perf_6_month_avg</th>\n",
       "      <th>perf_12_month_avg</th>\n",
       "      <th>local_bo_qty</th>\n",
       "    </tr>\n",
       "  </thead>\n",
       "  <tbody>\n",
       "    <tr>\n",
       "      <th>0</th>\n",
       "      <td>-0.016004</td>\n",
       "      <td>0.159826</td>\n",
       "      <td>-0.034731</td>\n",
       "      <td>-0.036416</td>\n",
       "      <td>-0.036174</td>\n",
       "      <td>-0.036172</td>\n",
       "      <td>-0.030684</td>\n",
       "      <td>-0.035904</td>\n",
       "      <td>-0.03639</td>\n",
       "      <td>-0.035919</td>\n",
       "      <td>-0.047544</td>\n",
       "      <td>-0.008926</td>\n",
       "      <td>0.151057</td>\n",
       "      <td>0.134829</td>\n",
       "      <td>-0.018939</td>\n",
       "    </tr>\n",
       "    <tr>\n",
       "      <th>1</th>\n",
       "      <td>-0.015840</td>\n",
       "      <td>0.018103</td>\n",
       "      <td>-0.034731</td>\n",
       "      <td>-0.036416</td>\n",
       "      <td>-0.036174</td>\n",
       "      <td>-0.036172</td>\n",
       "      <td>-0.030684</td>\n",
       "      <td>-0.035904</td>\n",
       "      <td>-0.03639</td>\n",
       "      <td>-0.035919</td>\n",
       "      <td>-0.046651</td>\n",
       "      <td>-0.008926</td>\n",
       "      <td>0.084002</td>\n",
       "      <td>0.059692</td>\n",
       "      <td>-0.018939</td>\n",
       "    </tr>\n",
       "  </tbody>\n",
       "</table>\n",
       "</div>"
      ],
      "text/plain": [
       "   national_inv  lead_time  in_transit_qty  forecast_3_month  \\\n",
       "0     -0.016004   0.159826       -0.034731         -0.036416   \n",
       "1     -0.015840   0.018103       -0.034731         -0.036416   \n",
       "\n",
       "   forecast_6_month  forecast_9_month  sales_1_month  sales_3_month  \\\n",
       "0         -0.036174         -0.036172      -0.030684      -0.035904   \n",
       "1         -0.036174         -0.036172      -0.030684      -0.035904   \n",
       "\n",
       "   sales_6_month  sales_9_month  min_bank  pieces_past_due  perf_6_month_avg  \\\n",
       "0       -0.03639      -0.035919 -0.047544        -0.008926          0.151057   \n",
       "1       -0.03639      -0.035919 -0.046651        -0.008926          0.084002   \n",
       "\n",
       "   perf_12_month_avg  local_bo_qty  \n",
       "0           0.134829     -0.018939  \n",
       "1           0.059692     -0.018939  "
      ]
     },
     "execution_count": 20,
     "metadata": {},
     "output_type": "execute_result"
    }
   ],
   "source": [
    "nc = pd.DataFrame(nc, columns = cols)\n",
    "nc.head(2)"
   ]
  },
  {
   "cell_type": "code",
   "execution_count": 21,
   "id": "54413882",
   "metadata": {},
   "outputs": [],
   "source": [
    "nc['went_on_backorder'] = df_train1['went_on_backorder'] \n"
   ]
  },
  {
   "cell_type": "code",
   "execution_count": null,
   "id": "717cf469",
   "metadata": {},
   "outputs": [],
   "source": [
    "fig1 = plt.figure()\n",
    "pd.plotting.parallel_coordinates(nc,\n",
    "                                 'went_on_backorder',    # class_column\n",
    "                                  colormap='winter'\n",
    "                                  )\n",
    "plt.xticks(rotation=90)\n",
    "plt.title(\"Parallel chart with random data\")"
   ]
  }
 ],
 "metadata": {
  "kernelspec": {
   "display_name": "Python 3 (ipykernel)",
   "language": "python",
   "name": "python3"
  },
  "language_info": {
   "codemirror_mode": {
    "name": "ipython",
    "version": 3
   },
   "file_extension": ".py",
   "mimetype": "text/x-python",
   "name": "python",
   "nbconvert_exporter": "python",
   "pygments_lexer": "ipython3",
   "version": "3.9.7"
  }
 },
 "nbformat": 4,
 "nbformat_minor": 5
}
